{
 "cells": [
  {
   "cell_type": "markdown",
   "metadata": {},
   "source": [
    "# Project 3\n",
    "\n",
    "In this project, you will perform a logistic regression on the admissions data we've been working with in projects 1 and 2."
   ]
  },
  {
   "cell_type": "code",
   "execution_count": 29,
   "metadata": {
    "collapsed": true
   },
   "outputs": [],
   "source": [
    "%matplotlib inline\n",
    "import matplotlib.pyplot as plt\n",
    "import pandas as pd\n",
    "import statsmodels.api as sm\n",
    "import pylab as pl\n",
    "import numpy as np\n"
   ]
  },
  {
   "cell_type": "code",
   "execution_count": 30,
   "metadata": {},
   "outputs": [
    {
     "name": "stdout",
     "output_type": "stream",
     "text": [
      "   admit    gre   gpa  prestige\n",
      "0      0  380.0  3.61       3.0\n",
      "1      1  660.0  3.67       3.0\n",
      "2      1  800.0  4.00       1.0\n",
      "3      1  640.0  3.19       4.0\n",
      "4      0  520.0  2.93       4.0\n"
     ]
    }
   ],
   "source": [
    "df_raw = pd.read_csv(\"../assets/admissions.csv\")\n",
    "df = df_raw.dropna() \n",
    "print df.head()"
   ]
  },
  {
   "cell_type": "markdown",
   "metadata": {},
   "source": [
    "## Part 1. Frequency Tables\n",
    "\n",
    "#### 1. Let's create a frequency table of our variables"
   ]
  },
  {
   "cell_type": "code",
   "execution_count": 31,
   "metadata": {},
   "outputs": [
    {
     "data": {
      "text/html": [
       "<div>\n",
       "<style>\n",
       "    .dataframe thead tr:only-child th {\n",
       "        text-align: right;\n",
       "    }\n",
       "\n",
       "    .dataframe thead th {\n",
       "        text-align: left;\n",
       "    }\n",
       "\n",
       "    .dataframe tbody tr th {\n",
       "        vertical-align: top;\n",
       "    }\n",
       "</style>\n",
       "<table border=\"1\" class=\"dataframe\">\n",
       "  <thead>\n",
       "    <tr style=\"text-align: right;\">\n",
       "      <th>admit</th>\n",
       "      <th>0</th>\n",
       "      <th>1</th>\n",
       "    </tr>\n",
       "    <tr>\n",
       "      <th>prestige</th>\n",
       "      <th></th>\n",
       "      <th></th>\n",
       "    </tr>\n",
       "  </thead>\n",
       "  <tbody>\n",
       "    <tr>\n",
       "      <th>1.0</th>\n",
       "      <td>28</td>\n",
       "      <td>33</td>\n",
       "    </tr>\n",
       "    <tr>\n",
       "      <th>2.0</th>\n",
       "      <td>95</td>\n",
       "      <td>53</td>\n",
       "    </tr>\n",
       "    <tr>\n",
       "      <th>3.0</th>\n",
       "      <td>93</td>\n",
       "      <td>28</td>\n",
       "    </tr>\n",
       "    <tr>\n",
       "      <th>4.0</th>\n",
       "      <td>55</td>\n",
       "      <td>12</td>\n",
       "    </tr>\n",
       "  </tbody>\n",
       "</table>\n",
       "</div>"
      ],
      "text/plain": [
       "admit      0   1\n",
       "prestige        \n",
       "1.0       28  33\n",
       "2.0       95  53\n",
       "3.0       93  28\n",
       "4.0       55  12"
      ]
     },
     "execution_count": 31,
     "metadata": {},
     "output_type": "execute_result"
    }
   ],
   "source": [
    "# frequency table for prestige and whether or not someone was admitted\n",
    "\n",
    "pd.crosstab(df['prestige'], df['admit'])"
   ]
  },
  {
   "cell_type": "markdown",
   "metadata": {},
   "source": [
    "## Part 2. Return of dummy variables"
   ]
  },
  {
   "cell_type": "markdown",
   "metadata": {},
   "source": [
    "#### 2.1 Create class or dummy variables for prestige "
   ]
  },
  {
   "cell_type": "code",
   "execution_count": 32,
   "metadata": {
    "collapsed": true,
    "scrolled": true
   },
   "outputs": [],
   "source": [
    "df = pd.get_dummies(df, columns=['prestige'])"
   ]
  },
  {
   "cell_type": "markdown",
   "metadata": {},
   "source": [
    "#### 2.2 When modeling our class variables, how many do we need? \n",
    "\n"
   ]
  },
  {
   "cell_type": "markdown",
   "metadata": {},
   "source": [
    "    Answer: Three. When creating dummies, we need the number of total categories - 1. If there is a null value for all of our dummy variables, we know the instance had a value of the category that we didn't create a dummy variable out of. But for now we will keep all four that this creates without drop_first"
   ]
  },
  {
   "cell_type": "markdown",
   "metadata": {},
   "source": [
    "## Part 3. Hand calculating odds ratios\n",
    "\n",
    "Develop your intuition about expected outcomes by hand calculating odds ratios."
   ]
  },
  {
   "cell_type": "code",
   "execution_count": 33,
   "metadata": {},
   "outputs": [
    {
     "data": {
      "text/html": [
       "<div>\n",
       "<style>\n",
       "    .dataframe thead tr:only-child th {\n",
       "        text-align: right;\n",
       "    }\n",
       "\n",
       "    .dataframe thead th {\n",
       "        text-align: left;\n",
       "    }\n",
       "\n",
       "    .dataframe tbody tr th {\n",
       "        vertical-align: top;\n",
       "    }\n",
       "</style>\n",
       "<table border=\"1\" class=\"dataframe\">\n",
       "  <thead>\n",
       "    <tr style=\"text-align: right;\">\n",
       "      <th></th>\n",
       "      <th>admit</th>\n",
       "      <th>gre</th>\n",
       "      <th>gpa</th>\n",
       "      <th>prestige_1.0</th>\n",
       "      <th>prestige_2.0</th>\n",
       "      <th>prestige_3.0</th>\n",
       "      <th>prestige_4.0</th>\n",
       "    </tr>\n",
       "  </thead>\n",
       "  <tbody>\n",
       "    <tr>\n",
       "      <th>0</th>\n",
       "      <td>0</td>\n",
       "      <td>380.0</td>\n",
       "      <td>3.61</td>\n",
       "      <td>0</td>\n",
       "      <td>0</td>\n",
       "      <td>1</td>\n",
       "      <td>0</td>\n",
       "    </tr>\n",
       "    <tr>\n",
       "      <th>1</th>\n",
       "      <td>1</td>\n",
       "      <td>660.0</td>\n",
       "      <td>3.67</td>\n",
       "      <td>0</td>\n",
       "      <td>0</td>\n",
       "      <td>1</td>\n",
       "      <td>0</td>\n",
       "    </tr>\n",
       "    <tr>\n",
       "      <th>2</th>\n",
       "      <td>1</td>\n",
       "      <td>800.0</td>\n",
       "      <td>4.00</td>\n",
       "      <td>1</td>\n",
       "      <td>0</td>\n",
       "      <td>0</td>\n",
       "      <td>0</td>\n",
       "    </tr>\n",
       "    <tr>\n",
       "      <th>3</th>\n",
       "      <td>1</td>\n",
       "      <td>640.0</td>\n",
       "      <td>3.19</td>\n",
       "      <td>0</td>\n",
       "      <td>0</td>\n",
       "      <td>0</td>\n",
       "      <td>1</td>\n",
       "    </tr>\n",
       "    <tr>\n",
       "      <th>4</th>\n",
       "      <td>0</td>\n",
       "      <td>520.0</td>\n",
       "      <td>2.93</td>\n",
       "      <td>0</td>\n",
       "      <td>0</td>\n",
       "      <td>0</td>\n",
       "      <td>1</td>\n",
       "    </tr>\n",
       "  </tbody>\n",
       "</table>\n",
       "</div>"
      ],
      "text/plain": [
       "   admit    gre   gpa  prestige_1.0  prestige_2.0  prestige_3.0  prestige_4.0\n",
       "0      0  380.0  3.61             0             0             1             0\n",
       "1      1  660.0  3.67             0             0             1             0\n",
       "2      1  800.0  4.00             1             0             0             0\n",
       "3      1  640.0  3.19             0             0             0             1\n",
       "4      0  520.0  2.93             0             0             0             1"
      ]
     },
     "execution_count": 33,
     "metadata": {},
     "output_type": "execute_result"
    }
   ],
   "source": [
    "df.head()"
   ]
  },
  {
   "cell_type": "code",
   "execution_count": 34,
   "metadata": {},
   "outputs": [
    {
     "name": "stdout",
     "output_type": "stream",
     "text": [
      "   admit    gre   gpa  prestige_1.0  prestige_2.0  prestige_3.0  prestige_4.0\n",
      "0      0  380.0  3.61             0             0             1             0\n",
      "1      1  660.0  3.67             0             0             1             0\n",
      "2      1  800.0  4.00             1             0             0             0\n",
      "3      1  640.0  3.19             0             0             0             1\n",
      "4      0  520.0  2.93             0             0             0             1\n"
     ]
    },
    {
     "name": "stderr",
     "output_type": "stream",
     "text": [
      "/Users/bjr-fov/anaconda/lib/python2.7/site-packages/ipykernel_launcher.py:3: DeprecationWarning: \n",
      ".ix is deprecated. Please use\n",
      ".loc for label based indexing or\n",
      ".iloc for positional indexing\n",
      "\n",
      "See the documentation here:\n",
      "http://pandas.pydata.org/pandas-docs/stable/indexing.html#deprecate_ix\n",
      "  This is separate from the ipykernel package so we can avoid doing imports until\n"
     ]
    }
   ],
   "source": [
    "cols_to_keep = ['admit', 'gre', 'gpa']\n",
    "dummy_ranks = df\n",
    "handCalc = df[cols_to_keep].join(dummy_ranks.ix[:, 'prestige_1.0':])\n",
    "print handCalc.head()\n",
    "\n",
    "#i just adapted the code that was here before, but don't really understand why it needed to be here."
   ]
  },
  {
   "cell_type": "code",
   "execution_count": null,
   "metadata": {
    "collapsed": true,
    "scrolled": false
   },
   "outputs": [],
   "source": []
  },
  {
   "cell_type": "code",
   "execution_count": 35,
   "metadata": {},
   "outputs": [
    {
     "name": "stdout",
     "output_type": "stream",
     "text": [
      "admit           0   1\n",
      "prestige_1.0         \n",
      "0             243  93\n",
      "1              28  33\n"
     ]
    }
   ],
   "source": [
    "#crosstab prestige 1 admission \n",
    "# frequency table cutting prestige and whether or not someone was admitted\n",
    "\n",
    "crosstabCalc = pd.crosstab(handCalc['prestige_1.0'], handCalc['admit'])\n",
    "print crosstabCalc"
   ]
  },
  {
   "cell_type": "markdown",
   "metadata": {},
   "source": [
    "#### 3.1 Use the cross tab above to calculate the odds of being admitted to grad school if you attended a #1 ranked college"
   ]
  },
  {
   "cell_type": "code",
   "execution_count": 36,
   "metadata": {},
   "outputs": [
    {
     "name": "stdout",
     "output_type": "stream",
     "text": [
      "0.540983606557\n"
     ]
    }
   ],
   "source": [
    "odds_number1 = (float (crosstabCalc[1][1])/((crosstabCalc[0][1]) + (crosstabCalc[1][1])))\n",
    "\n",
    "print odds_number1"
   ]
  },
  {
   "cell_type": "markdown",
   "metadata": {},
   "source": [
    "#### 3.2 Now calculate the odds of admission if you did not attend a #1 ranked college"
   ]
  },
  {
   "cell_type": "code",
   "execution_count": 37,
   "metadata": {},
   "outputs": [
    {
     "name": "stdout",
     "output_type": "stream",
     "text": [
      "0.276785714286\n"
     ]
    }
   ],
   "source": [
    "odds_notnumber1 = (float (crosstabCalc[1][0])/((crosstabCalc[1][0]) + crosstabCalc[0][0]))\n",
    "\n",
    "print odds_notnumber1"
   ]
  },
  {
   "cell_type": "markdown",
   "metadata": {},
   "source": [
    "#### 3.3 Calculate the odds ratio"
   ]
  },
  {
   "cell_type": "code",
   "execution_count": 38,
   "metadata": {},
   "outputs": [
    {
     "name": "stdout",
     "output_type": "stream",
     "text": [
      "1.95452141724\n"
     ]
    }
   ],
   "source": [
    "print odds_number1/odds_notnumber1"
   ]
  },
  {
   "cell_type": "markdown",
   "metadata": {},
   "source": [
    "#### 3.4 Write this finding in a sentenance: "
   ]
  },
  {
   "cell_type": "markdown",
   "metadata": {},
   "source": [
    "Answer: If you go to a #1 rank school you are almost twice as likely to be admitted into the program than if you did not go to a #1 ranked school."
   ]
  },
  {
   "cell_type": "markdown",
   "metadata": {},
   "source": [
    "#### 3.5 Print the cross tab for prestige_4"
   ]
  },
  {
   "cell_type": "code",
   "execution_count": 40,
   "metadata": {
    "collapsed": true
   },
   "outputs": [],
   "source": [
    "crosstabCalc = pd.crosstab(handCalc['prestige_4.0'], handCalc['admit'])\n"
   ]
  },
  {
   "cell_type": "markdown",
   "metadata": {},
   "source": [
    "#### 3.6 Calculate the OR "
   ]
  },
  {
   "cell_type": "code",
   "execution_count": 41,
   "metadata": {},
   "outputs": [
    {
     "name": "stdout",
     "output_type": "stream",
     "text": [
      "0.518460329929\n"
     ]
    }
   ],
   "source": [
    "odds_number4 = (float (crosstabCalc[1][1])/((crosstabCalc[0][1]) + (crosstabCalc[1][1])))\n",
    "odds_notnumber4 = (float (crosstabCalc[1][0])/((crosstabCalc[1][0]) + crosstabCalc[0][0]))\n",
    "print odds_number4/odds_notnumber4\n"
   ]
  },
  {
   "cell_type": "markdown",
   "metadata": {},
   "source": [
    "#### 3.7 Write this finding in a sentence"
   ]
  },
  {
   "cell_type": "markdown",
   "metadata": {},
   "source": [
    "Answer: An applicant is half as likely to be admitted if they go to a bottom-ranked school than if they went to a non-bottom-ranked school. "
   ]
  },
  {
   "cell_type": "markdown",
   "metadata": {},
   "source": [
    "## Part 4. Analysis"
   ]
  },
  {
   "cell_type": "code",
   "execution_count": 42,
   "metadata": {},
   "outputs": [
    {
     "name": "stdout",
     "output_type": "stream",
     "text": [
      "   admit    gre   gpa  prestige_2.0  prestige_3.0  prestige_4.0\n",
      "0      0  380.0  3.61             0             1             0\n",
      "1      1  660.0  3.67             0             1             0\n",
      "2      1  800.0  4.00             0             0             0\n",
      "3      1  640.0  3.19             0             0             1\n",
      "4      0  520.0  2.93             0             0             1\n"
     ]
    }
   ],
   "source": [
    "# create a clean data frame for the regression\n",
    "cols_to_keep = ['admit', 'gre', 'gpa']\n",
    "data = df[cols_to_keep].join(dummy_ranks.ix[:, 'prestige_2.0':])\n",
    "print data.head()"
   ]
  },
  {
   "cell_type": "markdown",
   "metadata": {},
   "source": [
    "We're going to add a constant term for our Logistic Regression. The statsmodels function we're going to be using requires that intercepts/constants are specified explicitly."
   ]
  },
  {
   "cell_type": "code",
   "execution_count": 43,
   "metadata": {
    "collapsed": true
   },
   "outputs": [],
   "source": [
    "# manually add the intercept\n",
    "data['intercept'] = 1.0"
   ]
  },
  {
   "cell_type": "markdown",
   "metadata": {},
   "source": [
    "#### 4.1 Set the covariates to a variable called train_cols"
   ]
  },
  {
   "cell_type": "code",
   "execution_count": 44,
   "metadata": {
    "collapsed": true
   },
   "outputs": [],
   "source": [
    "train_cols = ['gre', 'gpa', 'prestige_2.0', 'prestige_3.0', 'prestige_4.0']"
   ]
  },
  {
   "cell_type": "markdown",
   "metadata": {},
   "source": [
    "#### 4.2 Fit the model"
   ]
  },
  {
   "cell_type": "code",
   "execution_count": 48,
   "metadata": {},
   "outputs": [
    {
     "name": "stdout",
     "output_type": "stream",
     "text": [
      "Optimization terminated successfully.\n",
      "         Current function value: 0.589121\n",
      "         Iterations 5\n",
      "                           Logit Regression Results                           \n",
      "==============================================================================\n",
      "Dep. Variable:                  admit   No. Observations:                  397\n",
      "Model:                          Logit   Df Residuals:                      392\n",
      "Method:                           MLE   Df Model:                            4\n",
      "Date:                Mon, 28 Aug 2017   Pseudo R-squ.:                 0.05722\n",
      "Time:                        07:55:06   Log-Likelihood:                -233.88\n",
      "converged:                       True   LL-Null:                       -248.08\n",
      "                                        LLR p-value:                 1.039e-05\n",
      "================================================================================\n",
      "                   coef    std err          z      P>|z|      [0.025      0.975]\n",
      "--------------------------------------------------------------------------------\n",
      "gre              0.0014      0.001      1.308      0.191      -0.001       0.003\n",
      "gpa             -0.1323      0.195     -0.680      0.497      -0.514       0.249\n",
      "prestige_2.0    -0.9562      0.302     -3.171      0.002      -1.547      -0.365\n",
      "prestige_3.0    -1.5375      0.332     -4.627      0.000      -2.189      -0.886\n",
      "prestige_4.0    -1.8699      0.401     -4.658      0.000      -2.657      -1.083\n",
      "================================================================================\n"
     ]
    }
   ],
   "source": [
    "logit = sm.Logit(data['admit'], data[train_cols])\n",
    "result = logit.fit()\n",
    "print result.summary()"
   ]
  },
  {
   "cell_type": "markdown",
   "metadata": {},
   "source": [
    "#### 4.3 Print the summary results"
   ]
  },
  {
   "cell_type": "code",
   "execution_count": 49,
   "metadata": {},
   "outputs": [
    {
     "name": "stdout",
     "output_type": "stream",
     "text": [
      "                           Logit Regression Results                           \n",
      "==============================================================================\n",
      "Dep. Variable:                  admit   No. Observations:                  397\n",
      "Model:                          Logit   Df Residuals:                      392\n",
      "Method:                           MLE   Df Model:                            4\n",
      "Date:                Mon, 28 Aug 2017   Pseudo R-squ.:                 0.05722\n",
      "Time:                        07:55:08   Log-Likelihood:                -233.88\n",
      "converged:                       True   LL-Null:                       -248.08\n",
      "                                        LLR p-value:                 1.039e-05\n",
      "================================================================================\n",
      "                   coef    std err          z      P>|z|      [0.025      0.975]\n",
      "--------------------------------------------------------------------------------\n",
      "gre              0.0014      0.001      1.308      0.191      -0.001       0.003\n",
      "gpa             -0.1323      0.195     -0.680      0.497      -0.514       0.249\n",
      "prestige_2.0    -0.9562      0.302     -3.171      0.002      -1.547      -0.365\n",
      "prestige_3.0    -1.5375      0.332     -4.627      0.000      -2.189      -0.886\n",
      "prestige_4.0    -1.8699      0.401     -4.658      0.000      -2.657      -1.083\n",
      "================================================================================\n"
     ]
    }
   ],
   "source": [
    "print result.summary()"
   ]
  },
  {
   "cell_type": "markdown",
   "metadata": {},
   "source": [
    "#### 4.4 Calculate the odds ratios of the coeffiencents and their 95% CI intervals\n",
    "\n",
    "hint 1: np.exp(X)\n",
    "\n",
    "hint 2: conf['OR'] = params\n",
    "        \n",
    "           conf.columns = ['2.5%', '97.5%', 'OR']"
   ]
  },
  {
   "cell_type": "code",
   "execution_count": 50,
   "metadata": {},
   "outputs": [
    {
     "name": "stdout",
     "output_type": "stream",
     "text": [
      "                  2.5%     97.5%        OR\n",
      "gre           0.999320  1.003420  1.001368\n",
      "gpa           0.598303  1.282800  0.876073\n",
      "prestige_2.0  0.212826  0.694082  0.384342\n",
      "prestige_3.0  0.112055  0.412207  0.214918\n",
      "prestige_4.0  0.070176  0.338540  0.154135\n"
     ]
    }
   ],
   "source": [
    "params = result.params\n",
    "conf = result.conf_int()\n",
    "conf['OR'] = params\n",
    "conf.columns = ['2.5%', '97.5%', 'OR']\n",
    "print np.exp(conf)"
   ]
  },
  {
   "cell_type": "code",
   "execution_count": null,
   "metadata": {
    "collapsed": true,
    "scrolled": true
   },
   "outputs": [],
   "source": []
  },
  {
   "cell_type": "markdown",
   "metadata": {},
   "source": [
    "#### 4.5 Interpret the OR of Prestige_2"
   ]
  },
  {
   "cell_type": "markdown",
   "metadata": {},
   "source": [
    "If you go to a second rated school, your chance of getting into the program is about 40% of if you went to a school with the other prestige levels."
   ]
  },
  {
   "cell_type": "markdown",
   "metadata": {},
   "source": [
    "#### 4.6 Interpret the OR of GPA"
   ]
  },
  {
   "cell_type": "markdown",
   "metadata": {},
   "source": [
    "With every increase in 1 in GPA, your likelihood of being accepted increases by 100%"
   ]
  },
  {
   "cell_type": "markdown",
   "metadata": {},
   "source": [
    "## Part 5: Predicted probablities\n"
   ]
  },
  {
   "cell_type": "markdown",
   "metadata": {},
   "source": [
    "As a way of evaluating our classifier, we're going to recreate the dataset with every logical combination of input values. This will allow us to see how the predicted probability of admission increases/decreases across different variables. First we're going to generate the combinations using a helper function called cartesian (above).\n",
    "\n",
    "We're going to use np.linspace to create a range of values for \"gre\" and \"gpa\". This creates a range of linearly spaced values from a specified min and maximum value--in our case just the min/max observed values."
   ]
  },
  {
   "cell_type": "code",
   "execution_count": 51,
   "metadata": {
    "collapsed": true
   },
   "outputs": [],
   "source": [
    "def cartesian(arrays, out=None):\n",
    "    \"\"\"\n",
    "    Generate a cartesian product of input arrays.\n",
    "    Parameters\n",
    "    ----------\n",
    "    arrays : list of array-like\n",
    "        1-D arrays to form the cartesian product of.\n",
    "    out : ndarray\n",
    "        Array to place the cartesian product in.\n",
    "    Returns\n",
    "    -------\n",
    "    out : ndarray\n",
    "        2-D array of shape (M, len(arrays)) containing cartesian products\n",
    "        formed of input arrays.\n",
    "    Examples\n",
    "    --------\n",
    "    >>> cartesian(([1, 2, 3], [4, 5], [6, 7]))\n",
    "    array([[1, 4, 6],\n",
    "           [1, 4, 7],\n",
    "           [1, 5, 6],\n",
    "           [1, 5, 7],\n",
    "           [2, 4, 6],\n",
    "           [2, 4, 7],\n",
    "           [2, 5, 6],\n",
    "           [2, 5, 7],\n",
    "           [3, 4, 6],\n",
    "           [3, 4, 7],\n",
    "           [3, 5, 6],\n",
    "           [3, 5, 7]])\n",
    "    \"\"\"\n",
    "\n",
    "    arrays = [np.asarray(x) for x in arrays]\n",
    "    dtype = arrays[0].dtype\n",
    "\n",
    "    n = np.prod([x.size for x in arrays])\n",
    "    if out is None:\n",
    "        out = np.zeros([n, len(arrays)], dtype=dtype)\n",
    "\n",
    "    m = n / arrays[0].size\n",
    "    out[:,0] = np.repeat(arrays[0], m)\n",
    "    if arrays[1:]:\n",
    "        cartesian(arrays[1:], out=out[0:m,1:])\n",
    "        for j in xrange(1, arrays[0].size):\n",
    "            out[j*m:(j+1)*m,1:] = out[0:m,1:]\n",
    "    return out"
   ]
  },
  {
   "cell_type": "code",
   "execution_count": 23,
   "metadata": {},
   "outputs": [
    {
     "name": "stdout",
     "output_type": "stream",
     "text": [
      "[ 220.          284.44444444  348.88888889  413.33333333  477.77777778\n",
      "  542.22222222  606.66666667  671.11111111  735.55555556  800.        ]\n",
      "[ 2.26        2.45333333  2.64666667  2.84        3.03333333  3.22666667\n",
      "  3.42        3.61333333  3.80666667  4.        ]\n",
      "         0         1    2    3\n",
      "0    220.0  2.260000  1.0  1.0\n",
      "1    220.0  2.260000  2.0  1.0\n",
      "2    220.0  2.260000  3.0  1.0\n",
      "3    220.0  2.260000  4.0  1.0\n",
      "4    220.0  2.453333  1.0  1.0\n",
      "5    220.0  2.453333  2.0  1.0\n",
      "6    220.0  2.453333  3.0  1.0\n",
      "7    220.0  2.453333  4.0  1.0\n",
      "8    220.0  2.646667  1.0  1.0\n",
      "9    220.0  2.646667  2.0  1.0\n",
      "10   220.0  2.646667  3.0  1.0\n",
      "11   220.0  2.646667  4.0  1.0\n",
      "12   220.0  2.840000  1.0  1.0\n",
      "13   220.0  2.840000  2.0  1.0\n",
      "14   220.0  2.840000  3.0  1.0\n",
      "15   220.0  2.840000  4.0  1.0\n",
      "16   220.0  3.033333  1.0  1.0\n",
      "17   220.0  3.033333  2.0  1.0\n",
      "18   220.0  3.033333  3.0  1.0\n",
      "19   220.0  3.033333  4.0  1.0\n",
      "20   220.0  3.226667  1.0  1.0\n",
      "21   220.0  3.226667  2.0  1.0\n",
      "22   220.0  3.226667  3.0  1.0\n",
      "23   220.0  3.226667  4.0  1.0\n",
      "24   220.0  3.420000  1.0  1.0\n",
      "25   220.0  3.420000  2.0  1.0\n",
      "26   220.0  3.420000  3.0  1.0\n",
      "27   220.0  3.420000  4.0  1.0\n",
      "28   220.0  3.613333  1.0  1.0\n",
      "29   220.0  3.613333  2.0  1.0\n",
      "..     ...       ...  ...  ...\n",
      "370  800.0  2.646667  3.0  1.0\n",
      "371  800.0  2.646667  4.0  1.0\n",
      "372  800.0  2.840000  1.0  1.0\n",
      "373  800.0  2.840000  2.0  1.0\n",
      "374  800.0  2.840000  3.0  1.0\n",
      "375  800.0  2.840000  4.0  1.0\n",
      "376  800.0  3.033333  1.0  1.0\n",
      "377  800.0  3.033333  2.0  1.0\n",
      "378  800.0  3.033333  3.0  1.0\n",
      "379  800.0  3.033333  4.0  1.0\n",
      "380  800.0  3.226667  1.0  1.0\n",
      "381  800.0  3.226667  2.0  1.0\n",
      "382  800.0  3.226667  3.0  1.0\n",
      "383  800.0  3.226667  4.0  1.0\n",
      "384  800.0  3.420000  1.0  1.0\n",
      "385  800.0  3.420000  2.0  1.0\n",
      "386  800.0  3.420000  3.0  1.0\n",
      "387  800.0  3.420000  4.0  1.0\n",
      "388  800.0  3.613333  1.0  1.0\n",
      "389  800.0  3.613333  2.0  1.0\n",
      "390  800.0  3.613333  3.0  1.0\n",
      "391  800.0  3.613333  4.0  1.0\n",
      "392  800.0  3.806667  1.0  1.0\n",
      "393  800.0  3.806667  2.0  1.0\n",
      "394  800.0  3.806667  3.0  1.0\n",
      "395  800.0  3.806667  4.0  1.0\n",
      "396  800.0  4.000000  1.0  1.0\n",
      "397  800.0  4.000000  2.0  1.0\n",
      "398  800.0  4.000000  3.0  1.0\n",
      "399  800.0  4.000000  4.0  1.0\n",
      "\n",
      "[400 rows x 4 columns]\n"
     ]
    }
   ],
   "source": [
    "# instead of generating all possible values of GRE and GPA, we're going\n",
    "# to use an evenly spaced range of 10 values from the min to the max \n",
    "gres = np.linspace(data['gre'].min(), data['gre'].max(), 10)\n",
    "print gres\n",
    "# array([ 220.        ,  284.44444444,  348.88888889,  413.33333333,\n",
    "#         477.77777778,  542.22222222,  606.66666667,  671.11111111,\n",
    "#         735.55555556,  800.        ])\n",
    "gpas = np.linspace(data['gpa'].min(), data['gpa'].max(), 10)\n",
    "print gpas\n",
    "# array([ 2.26      ,  2.45333333,  2.64666667,  2.84      ,  3.03333333,\n",
    "#         3.22666667,  3.42      ,  3.61333333,  3.80666667,  4.        ])\n",
    "\n",
    "\n",
    "# enumerate all possibilities\n",
    "combos = pd.DataFrame(cartesian([gres, gpas, [1, 2, 3, 4], [1.]]))\n",
    "\n",
    "print combos"
   ]
  },
  {
   "cell_type": "markdown",
   "metadata": {},
   "source": [
    "#### 5.1 Recreate the dummy variables"
   ]
  },
  {
   "cell_type": "code",
   "execution_count": 57,
   "metadata": {
    "scrolled": true
   },
   "outputs": [
    {
     "name": "stdout",
     "output_type": "stream",
     "text": [
      "         0         1    3  2_2.0  2_3.0  2_4.0\n",
      "0    220.0  2.260000  1.0      0      0      0\n",
      "1    220.0  2.260000  1.0      1      0      0\n",
      "2    220.0  2.260000  1.0      0      1      0\n",
      "3    220.0  2.260000  1.0      0      0      1\n",
      "4    220.0  2.453333  1.0      0      0      0\n",
      "5    220.0  2.453333  1.0      1      0      0\n",
      "6    220.0  2.453333  1.0      0      1      0\n",
      "7    220.0  2.453333  1.0      0      0      1\n",
      "8    220.0  2.646667  1.0      0      0      0\n",
      "9    220.0  2.646667  1.0      1      0      0\n",
      "10   220.0  2.646667  1.0      0      1      0\n",
      "11   220.0  2.646667  1.0      0      0      1\n",
      "12   220.0  2.840000  1.0      0      0      0\n",
      "13   220.0  2.840000  1.0      1      0      0\n",
      "14   220.0  2.840000  1.0      0      1      0\n",
      "15   220.0  2.840000  1.0      0      0      1\n",
      "16   220.0  3.033333  1.0      0      0      0\n",
      "17   220.0  3.033333  1.0      1      0      0\n",
      "18   220.0  3.033333  1.0      0      1      0\n",
      "19   220.0  3.033333  1.0      0      0      1\n",
      "20   220.0  3.226667  1.0      0      0      0\n",
      "21   220.0  3.226667  1.0      1      0      0\n",
      "22   220.0  3.226667  1.0      0      1      0\n",
      "23   220.0  3.226667  1.0      0      0      1\n",
      "24   220.0  3.420000  1.0      0      0      0\n",
      "25   220.0  3.420000  1.0      1      0      0\n",
      "26   220.0  3.420000  1.0      0      1      0\n",
      "27   220.0  3.420000  1.0      0      0      1\n",
      "28   220.0  3.613333  1.0      0      0      0\n",
      "29   220.0  3.613333  1.0      1      0      0\n",
      "..     ...       ...  ...    ...    ...    ...\n",
      "370  800.0  2.646667  1.0      0      1      0\n",
      "371  800.0  2.646667  1.0      0      0      1\n",
      "372  800.0  2.840000  1.0      0      0      0\n",
      "373  800.0  2.840000  1.0      1      0      0\n",
      "374  800.0  2.840000  1.0      0      1      0\n",
      "375  800.0  2.840000  1.0      0      0      1\n",
      "376  800.0  3.033333  1.0      0      0      0\n",
      "377  800.0  3.033333  1.0      1      0      0\n",
      "378  800.0  3.033333  1.0      0      1      0\n",
      "379  800.0  3.033333  1.0      0      0      1\n",
      "380  800.0  3.226667  1.0      0      0      0\n",
      "381  800.0  3.226667  1.0      1      0      0\n",
      "382  800.0  3.226667  1.0      0      1      0\n",
      "383  800.0  3.226667  1.0      0      0      1\n",
      "384  800.0  3.420000  1.0      0      0      0\n",
      "385  800.0  3.420000  1.0      1      0      0\n",
      "386  800.0  3.420000  1.0      0      1      0\n",
      "387  800.0  3.420000  1.0      0      0      1\n",
      "388  800.0  3.613333  1.0      0      0      0\n",
      "389  800.0  3.613333  1.0      1      0      0\n",
      "390  800.0  3.613333  1.0      0      1      0\n",
      "391  800.0  3.613333  1.0      0      0      1\n",
      "392  800.0  3.806667  1.0      0      0      0\n",
      "393  800.0  3.806667  1.0      1      0      0\n",
      "394  800.0  3.806667  1.0      0      1      0\n",
      "395  800.0  3.806667  1.0      0      0      1\n",
      "396  800.0  4.000000  1.0      0      0      0\n",
      "397  800.0  4.000000  1.0      1      0      0\n",
      "398  800.0  4.000000  1.0      0      1      0\n",
      "399  800.0  4.000000  1.0      0      0      1\n",
      "\n",
      "[400 rows x 6 columns]\n"
     ]
    }
   ],
   "source": [
    "# recreate the dummy variables\n",
    "\n",
    "# keep only what we need for making predictions\n",
    "\n",
    "#combos = pd.get_dummies(combos, columns=[2], drop_first = True)\n",
    "\n",
    "print combos"
   ]
  },
  {
   "cell_type": "code",
   "execution_count": 58,
   "metadata": {
    "collapsed": true
   },
   "outputs": [],
   "source": [
    "combos.columns = ['gre', 'gpa', 'intercept', 'prestige_2.0', 'prestige_3.0', 'prestige_4.0']"
   ]
  },
  {
   "cell_type": "markdown",
   "metadata": {},
   "source": [
    "#### 5.2 Make predictions on the enumerated dataset"
   ]
  },
  {
   "cell_type": "code",
   "execution_count": 60,
   "metadata": {},
   "outputs": [
    {
     "name": "stdout",
     "output_type": "stream",
     "text": [
      "       gre       gpa  intercept  prestige_2.0  prestige_3.0  prestige_4.0  \\\n",
      "0    220.0  2.260000        1.0             0             0             0   \n",
      "1    220.0  2.260000        1.0             1             0             0   \n",
      "2    220.0  2.260000        1.0             0             1             0   \n",
      "3    220.0  2.260000        1.0             0             0             1   \n",
      "4    220.0  2.453333        1.0             0             0             0   \n",
      "5    220.0  2.453333        1.0             1             0             0   \n",
      "6    220.0  2.453333        1.0             0             1             0   \n",
      "7    220.0  2.453333        1.0             0             0             1   \n",
      "8    220.0  2.646667        1.0             0             0             0   \n",
      "9    220.0  2.646667        1.0             1             0             0   \n",
      "10   220.0  2.646667        1.0             0             1             0   \n",
      "11   220.0  2.646667        1.0             0             0             1   \n",
      "12   220.0  2.840000        1.0             0             0             0   \n",
      "13   220.0  2.840000        1.0             1             0             0   \n",
      "14   220.0  2.840000        1.0             0             1             0   \n",
      "15   220.0  2.840000        1.0             0             0             1   \n",
      "16   220.0  3.033333        1.0             0             0             0   \n",
      "17   220.0  3.033333        1.0             1             0             0   \n",
      "18   220.0  3.033333        1.0             0             1             0   \n",
      "19   220.0  3.033333        1.0             0             0             1   \n",
      "20   220.0  3.226667        1.0             0             0             0   \n",
      "21   220.0  3.226667        1.0             1             0             0   \n",
      "22   220.0  3.226667        1.0             0             1             0   \n",
      "23   220.0  3.226667        1.0             0             0             1   \n",
      "24   220.0  3.420000        1.0             0             0             0   \n",
      "25   220.0  3.420000        1.0             1             0             0   \n",
      "26   220.0  3.420000        1.0             0             1             0   \n",
      "27   220.0  3.420000        1.0             0             0             1   \n",
      "28   220.0  3.613333        1.0             0             0             0   \n",
      "29   220.0  3.613333        1.0             1             0             0   \n",
      "..     ...       ...        ...           ...           ...           ...   \n",
      "370  800.0  2.646667        1.0             0             1             0   \n",
      "371  800.0  2.646667        1.0             0             0             1   \n",
      "372  800.0  2.840000        1.0             0             0             0   \n",
      "373  800.0  2.840000        1.0             1             0             0   \n",
      "374  800.0  2.840000        1.0             0             1             0   \n",
      "375  800.0  2.840000        1.0             0             0             1   \n",
      "376  800.0  3.033333        1.0             0             0             0   \n",
      "377  800.0  3.033333        1.0             1             0             0   \n",
      "378  800.0  3.033333        1.0             0             1             0   \n",
      "379  800.0  3.033333        1.0             0             0             1   \n",
      "380  800.0  3.226667        1.0             0             0             0   \n",
      "381  800.0  3.226667        1.0             1             0             0   \n",
      "382  800.0  3.226667        1.0             0             1             0   \n",
      "383  800.0  3.226667        1.0             0             0             1   \n",
      "384  800.0  3.420000        1.0             0             0             0   \n",
      "385  800.0  3.420000        1.0             1             0             0   \n",
      "386  800.0  3.420000        1.0             0             1             0   \n",
      "387  800.0  3.420000        1.0             0             0             1   \n",
      "388  800.0  3.613333        1.0             0             0             0   \n",
      "389  800.0  3.613333        1.0             1             0             0   \n",
      "390  800.0  3.613333        1.0             0             1             0   \n",
      "391  800.0  3.613333        1.0             0             0             1   \n",
      "392  800.0  3.806667        1.0             0             0             0   \n",
      "393  800.0  3.806667        1.0             1             0             0   \n",
      "394  800.0  3.806667        1.0             0             1             0   \n",
      "395  800.0  3.806667        1.0             0             0             1   \n",
      "396  800.0  4.000000        1.0             0             0             0   \n",
      "397  800.0  4.000000        1.0             1             0             0   \n",
      "398  800.0  4.000000        1.0             0             1             0   \n",
      "399  800.0  4.000000        1.0             0             0             1   \n",
      "\n",
      "     admit_pred  \n",
      "0      0.500412  \n",
      "1      0.277966  \n",
      "2      0.177139  \n",
      "3      0.133741  \n",
      "4      0.494018  \n",
      "5      0.272862  \n",
      "6      0.173442  \n",
      "7      0.130805  \n",
      "8      0.487625  \n",
      "9      0.267816  \n",
      "10     0.169805  \n",
      "11     0.127924  \n",
      "12     0.481237  \n",
      "13     0.262830  \n",
      "14     0.166230  \n",
      "15     0.125098  \n",
      "16     0.474854  \n",
      "17     0.257904  \n",
      "18     0.162715  \n",
      "19     0.122325  \n",
      "20     0.468480  \n",
      "21     0.253039  \n",
      "22     0.159260  \n",
      "23     0.119605  \n",
      "24     0.462116  \n",
      "25     0.248235  \n",
      "26     0.155865  \n",
      "27     0.116938  \n",
      "28     0.455765  \n",
      "29     0.243492  \n",
      "..          ...  \n",
      "370    0.311235  \n",
      "371    0.244755  \n",
      "372    0.672071  \n",
      "373    0.440617  \n",
      "374    0.305778  \n",
      "375    0.240058  \n",
      "376    0.666409  \n",
      "377    0.434323  \n",
      "378    0.300375  \n",
      "379    0.235423  \n",
      "380    0.660698  \n",
      "381    0.428049  \n",
      "382    0.295027  \n",
      "383    0.230850  \n",
      "384    0.654941  \n",
      "385    0.421799  \n",
      "386    0.289735  \n",
      "387    0.226339  \n",
      "388    0.649137  \n",
      "389    0.415573  \n",
      "390    0.284500  \n",
      "391    0.221891  \n",
      "392    0.643289  \n",
      "393    0.409374  \n",
      "394    0.279322  \n",
      "395    0.217506  \n",
      "396    0.637399  \n",
      "397    0.403204  \n",
      "398    0.274202  \n",
      "399    0.213184  \n",
      "\n",
      "[400 rows x 7 columns]\n"
     ]
    }
   ],
   "source": [
    "combos['admit_pred'] = result.predict(combos[train_cols])\n",
    "print combos"
   ]
  },
  {
   "cell_type": "markdown",
   "metadata": {},
   "source": [
    "#### 5.3 Interpret findings for the last 4 observations"
   ]
  },
  {
   "cell_type": "markdown",
   "metadata": {},
   "source": [
    "Answer: The scores in the fourth to last (with high scores and a prestige of 1), the chances of getting in are about 64%; with a prestige of 2, a chance of 40%; with a prestige of 3, 27%; with a prestige of 4, 21%."
   ]
  },
  {
   "cell_type": "markdown",
   "metadata": {},
   "source": [
    "## Bonus\n",
    "\n",
    "Plot the probability of being admitted into graduate school, stratified by GPA and GRE score."
   ]
  },
  {
   "cell_type": "code",
   "execution_count": null,
   "metadata": {
    "collapsed": true
   },
   "outputs": [],
   "source": [
    "\n"
   ]
  }
 ],
 "metadata": {
  "kernelspec": {
   "display_name": "Python 2",
   "language": "python",
   "name": "python2"
  },
  "language_info": {
   "codemirror_mode": {
    "name": "ipython",
    "version": 2
   },
   "file_extension": ".py",
   "mimetype": "text/x-python",
   "name": "python",
   "nbconvert_exporter": "python",
   "pygments_lexer": "ipython2",
   "version": "2.7.13"
  }
 },
 "nbformat": 4,
 "nbformat_minor": 1
}
